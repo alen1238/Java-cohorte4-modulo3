{
 "cells": [
  {
   "cell_type": "markdown",
   "metadata": {},
   "source": [
    "# Conceptos del lenguaje"
   ]
  },
  {
   "cell_type": "markdown",
   "metadata": {},
   "source": [
    "## Pruebas de software"
   ]
  },
  {
   "cell_type": "markdown",
   "metadata": {},
   "source": [
    "### ¿Qué es un caso de prueba?"
   ]
  },
  {
   "cell_type": "markdown",
   "metadata": {},
   "source": [
    "- Conjunto de condiciones y variables bajo las cuales el analista (o tester) va a determinar si el requisito de la aplicación es parcial o completamente satisfactorio.\n",
    "- Existen dos tipos de casos:\n",
    "  - **Positivos**: Muestran una funcionalidad\n",
    "  - **Negativos**: Comprueban situaciones en las que hay situaciones de errores.\n",
    "- Cada requisito debe tener al menos un caso de prueba.\n",
    "- De cada caso de prueba se debe tener una **entrada conocida** y una **salida esperado**.\n",
    "- Los casos de prueba deben ser trazables\n",
    "\n",
    "#### Ejemplo:\n",
    "- **Requisito**: El precio del producto debe ser mayor o igual a cero.\n",
    "- Casos de prueba positivos:\n",
    "  - Precio es igual a 0\n",
    "  - Precio es igual a 10\n",
    "  - Precio es igual a 15\n",
    "- Casos de prueba negativo:\n",
    "  - Precio es igual a -5"
   ]
  },
  {
   "cell_type": "markdown",
   "metadata": {},
   "source": [
    "### Niveles de prueba"
   ]
  },
  {
   "cell_type": "markdown",
   "metadata": {},
   "source": [
    "Se definen como grupos de actividades de prueba que se organizan y se gestionan en conjunto y son realizadas según el nivel de desarrollo en que se encuentre el producto.\n",
    "\n",
    "![Niveles de prueba](https://media.licdn.com/dms/image/v2/D4D22AQHjTJlx5VI3eA/feedshare-shrink_800/feedshare-shrink_800/0/1684176304714?e=2147483647&v=beta&t=NsL_4sDsFAdzNmBN4rXFC1dwbz1ErRg2kRsyjA9Ysf0)"
   ]
  },
  {
   "cell_type": "markdown",
   "metadata": {},
   "source": [
    "#### Pruebas de componente o unitarias\n",
    "Generalmente realizadas por el desarrollador y automatizadas, estas pruebas se enfocan en los componentes, unidades o módulos, es decir, los elementos más pequeños del software.  \n",
    "\n",
    "Algunos objetivos de estas pruebas son:\n",
    "- Verificar que los comportamientos funcionales y no funcionales del componente son los diseñados y especificados.\n",
    "- Encontrar defectos.\n",
    "- Prevenir la propagación de defectos en otros niveles de prueba.\n",
    "\n",
    "Estas **son responsabilidad de los desarrolladores**\n",
    "\n",
    "![Pruebas unitarias](https://static.wixstatic.com/media/a59c1e_ece7506c8b334314bb66c7d78016cf97~mv2.png)"
   ]
  },
  {
   "cell_type": "markdown",
   "metadata": {},
   "source": [
    "#### Pruebas de integración\n",
    "Estas pruebas se centran en la interacción entre distintos componentes o sistemas. \n",
    "\n",
    "Algunos objetivos de estas pruebas son:\n",
    "- Uno de sus objetivos principales es **encontrar defectos**, que bien pueden estar _en las interfaces_ o _en los componentes o sistemas_. \n",
    "- Detectar pérdida de datos.\n",
    "- Manipulación errónea de datos.\n",
    "- Los componentes interpretan los datos de entrada de manera diferente.\n",
    "\n",
    "Estas **pueden ser responsabilidad de los desarrolladores** (generalmente cuando es una prueba de integración de componentes) **o de los testers** (generalmente cuando es una prueba de integración entre sistemas).\n",
    "\n",
    "![Pruebas de integración](https://static.wixstatic.com/media/a59c1e_080ea72c71894d4d9f3e1828511d4063~mv2.png)\n",
    "\n",
    "Si se integra un **módulo A** con un **módulo B**, la prueba de integración se centra en la comunicación entre los módulos o sistemas, no en la funcionalidad de estos en sí (aunque no se descarta la posibilidad de encontrar defectos en las funcionalidades)."
   ]
  },
  {
   "cell_type": "markdown",
   "metadata": {},
   "source": [
    "#### Pruebas de sistema\n",
    "**Realizadas por los testers**, estas pruebas se enfocan en el comportamiento y las capacidades de los sistemas o productos. En este nivel se toman en cuenta los escenarios _end-to-end_. \n",
    "\n",
    "![Pruebas de integración](https://static.wixstatic.com/media/a27d24_2e06a71c21db45fb9a34fb64b25229c6~mv2.jpg)\n",
    "\n",
    "Tienen como objetivo:\n",
    "- La reducción de riesgos.\n",
    "- Verificar que los requerimientos funcionales y no funcionales del sistema sean cumplidos.\n",
    "- Validar que el sistema funciona como se espera.\n",
    "- Generar confianza en la calidad del sistema.\n",
    "- Prevenir y encontrar defectos.\n",
    "\n",
    "El entorno en el que se realizan estas pruebas debe tener condiciones similares al ambiente de producción.\n"
   ]
  },
  {
   "cell_type": "markdown",
   "metadata": {},
   "source": [
    "#### Pruebas de aceptación\n",
    "Este nivel de prueba al igual que el de sistemas, se enfoca en el comportamiento de todo el sistema o producto.\n",
    "\n",
    "Algunos objetivos son:\n",
    "- Validar que el sistema se encuentra completo y que funcionará de acuerdo con lo esperado.\n",
    "- Establecer confianza en la calidad del sistema.\n",
    "- Verificar que los comportamientos funcionales y no funcionales son los especificados.\n",
    "- Proveer información que ayude a decidir si el sistema está óptimo para salir a producción. \n",
    "\n",
    "Estas pruebas tienen cuatro subdivisiones: \n",
    "- **Pruebas de aceptación del usuario (UAT)**: En estas pruebas los usuarios validan si el sistema satisface sus necesidades.\n",
    "- **Pruebas de aceptación operativa**: Estas se centran en los aspectos operativos y son realizadas por parte del personal de operaciones o de la administración del sistema.\n",
    "- **Pruebas de aceptación contractuales y normativas**:  Se realizan con el objetivo de generar conformidad en cuanto a contratos y normas. Suele ser realizada por usuarios o testers y sus resultados son auditados por agencias reguladoras.\n",
    "- **Pruebas Alfa y Beta**: Las pruebas alfa y beta son utilizadas por los desarrolladores de software comercial con el objetivo de obtener retroalimentación de los usuarios y/o clientes. La diferencia entre ellas es que las pruebas alfa se realizan dentro de la misma organización que desarrolla (no por el equipo de desarrollo) y las beta son realizadas por clientes potenciales o existentes en sus propias instalaciones."
   ]
  },
  {
   "cell_type": "markdown",
   "metadata": {},
   "source": [
    "#### Pirámide ideal de pruebas de Software\n",
    "![Pirámide ideal de pruebas de Software](assets/piramide_ideal.png)\n",
    "\n",
    "![Desarrollo tradicional vs Desarrollo Agile](https://mauroslv.wordpress.com/wp-content/uploads/2023/06/bb.jpg)\n"
   ]
  },
  {
   "cell_type": "markdown",
   "metadata": {},
   "source": [
    "### Pruebas Unitarias en Java"
   ]
  },
  {
   "cell_type": "markdown",
   "metadata": {},
   "source": [
    "Las **pruebas unitarias** son pruebas automatizadas que validan el comportamiento de pequeñas unidades de código, como métodos individuales, para asegurar que funcionan correctamente.\n",
    "\n",
    "Son fundamentales en el proceso de desarrollo de software por varias razones:\n",
    "- **Detección temprana de errores**: Ayudan a identificar y corregir errores en el código de manera temprana.\n",
    "- **Mantenimiento**: Facilitan la refactorización del código sin temor a introducir nuevos errores.\n",
    "- **Documentación**: Actúan como documentación viva del comportamiento esperado del código.\n",
    "\n",
    "Para las pruebas unitarias en Java, uno de los frameworks más utilizados es JUnit."
   ]
  },
  {
   "cell_type": "markdown",
   "metadata": {},
   "source": [
    "#### JUnit 5 [_(web)_](https://junit.org/junit5/)"
   ]
  },
  {
   "cell_type": "markdown",
   "metadata": {},
   "source": [
    "JUnit 5 es una de las versiones más recientes y avanzadas del framework JUnit. Está compuesto por tres módulos principales:\n",
    "\n",
    "##### JUnit Platform\n",
    "La **JUnit platform** sirve como base para lanzar marcos de prueba en la JVM. También define la **TestEngine API** para desarrollar un marco de prueba que se ejecuta en la plataforma. Además, la plataforma proporciona un Lanzador de Consola para iniciar la plataforma desde la línea de comandos y el _JUnit Platform Suite Engine_ para ejecutar un conjunto de pruebas personalizado utilizando uno o más motores de prueba en la plataforma. El soporte de primera clase para **JUnit Platform** también existe en los IDE populares (IntelliJ IDEA, Eclipse, NetBeans y Visual Studio Code) y herramientas de compilación (Gradle, Maven y Ant).\n",
    "\n",
    "##### JUnit Jupiter\n",
    "Este módulo incluye modelos de programación y extensión para escribir pruebas en JUnit 5.\n",
    "\n",
    "**`@Test`**\n",
    "\n",
    "Marca un método como una prueba unitaria."
   ]
  },
  {
   "cell_type": "code",
   "execution_count": null,
   "metadata": {
    "vscode": {
     "languageId": "java"
    }
   },
   "outputs": [],
   "source": [
    "@Test\n",
    "void addition() {\n",
    "    assertEquals(2, calculadora.sumar(1, 1));\n",
    "}"
   ]
  },
  {
   "cell_type": "markdown",
   "metadata": {},
   "source": [
    "**`@BeforeEach`**\n",
    "\n",
    "Indica que el método anotado debe ejecutarse antes de cada método `@Test`, `@RepeatedTest`, `@ParameterizedTest` o `@TestFactory` en la clase actual. Dichos métodos se heredan, a menos que se anulen o reemplacen (es decir, se reemplacen en función de la firma únicamente, independientemente de las reglas de visibilidad de Java)."
   ]
  },
  {
   "cell_type": "code",
   "execution_count": null,
   "metadata": {
    "vscode": {
     "languageId": "java"
    }
   },
   "outputs": [],
   "source": [
    "@BeforeEach\n",
    "void init() {\n",
    "    log.info(\"@BeforeEach - se ejecuta antes de cada método de prueba en esta clase\");\n",
    "}"
   ]
  },
  {
   "cell_type": "markdown",
   "metadata": {},
   "source": [
    "**`@BeforeAll`**\n",
    "\n",
    "Indica que el método anotado debe ejecutarse antes que todos los métodos `@Test`, `@RepeatedTest`, `@ParameterizedTest` y `@TestFactory` en la clase actual. Dichos métodos son heredados, a menos que estén ocultos, anulados o reemplazados (es decir, reemplazados solo en función de la firma, independientemente de las reglas de visibilidad de Java), y **deben ser estáticos**."
   ]
  },
  {
   "cell_type": "code",
   "execution_count": null,
   "metadata": {
    "vscode": {
     "languageId": "java"
    }
   },
   "outputs": [],
   "source": [
    "@BeforeAll\n",
    "static void setup() {\n",
    "    log.info(\"@BeforeAll - se ejecuta una vez antes de todos los métodos de prueba en esta clase\");\n",
    "}"
   ]
  },
  {
   "cell_type": "markdown",
   "metadata": {},
   "source": [
    "**`@DisplayName`**\n",
    "\n",
    "Declara un nombre para mostrar personalizado para la clase de prueba o el método de prueba. Estas anotaciones no se heredan."
   ]
  },
  {
   "cell_type": "code",
   "execution_count": null,
   "metadata": {
    "vscode": {
     "languageId": "java"
    }
   },
   "outputs": [],
   "source": [
    "@DisplayName(\"Single test successful\")\n",
    "@Test\n",
    "void testSimpleTest() {\n",
    "    log.info(\"Success\");\n",
    "}"
   ]
  },
  {
   "cell_type": "markdown",
   "metadata": {},
   "source": [
    "**`@Disabled`**\n",
    "\n",
    "Se utiliza para deshabilitar una clase de prueba o un método de prueba; análogo a @Ignore de JUnit 4. Estas anotaciones no se heredan."
   ]
  },
  {
   "cell_type": "code",
   "execution_count": null,
   "metadata": {
    "vscode": {
     "languageId": "java"
    }
   },
   "outputs": [],
   "source": [
    "@Test\n",
    "@Disabled(\"Este test esta desactivado\")\n",
    "void testVacio() {\n",
    "}"
   ]
  },
  {
   "cell_type": "markdown",
   "metadata": {},
   "source": [
    "**`@AfterEach`**\n",
    "\n",
    "Indica que el método anotado debe ejecutarse después de cada método `@Test`, `@RepeatedTest`, `@ParameterizedTest` o `@TestFactory` en la clase actual. Dichos métodos se heredan, a menos que se anulen o reemplacen (es decir, se reemplacen en función de la firma únicamente, independientemente de las reglas de visibilidad de Java)."
   ]
  },
  {
   "cell_type": "code",
   "execution_count": null,
   "metadata": {
    "vscode": {
     "languageId": "java"
    }
   },
   "outputs": [],
   "source": [
    "@AfterEach\n",
    "void tearDown() {\n",
    "    log.info(\"@AfterEach - ejecutado después de cada método de prueba.\");\n",
    "}"
   ]
  },
  {
   "cell_type": "markdown",
   "metadata": {},
   "source": [
    "**`@AfterAll`**\n",
    "\n",
    "Indica que el método anotado debe ejecutarse después de todos los métodos `@Test`, `@RepeatedTest`, `@ParameterizedTest` y `@TestFactory` en la clase actual. Dichos métodos son heredados, a menos que estén ocultos, anulados o reemplazados (es decir, reemplazados solo en función de la firma, independientemente de las reglas de visibilidad de Java), y deben ser estáticos a menos que se utilice el ciclo de vida de la instancia de prueba “por clase”."
   ]
  },
  {
   "cell_type": "code",
   "execution_count": null,
   "metadata": {
    "vscode": {
     "languageId": "java"
    }
   },
   "outputs": [],
   "source": [
    "@AfterAll\n",
    "static void despuesDeTodos() {\n",
    "    log.info(\"@AfterAll -ejecutado después de todos los métodos de prueba.\");\n",
    "}"
   ]
  },
  {
   "cell_type": "markdown",
   "metadata": {},
   "source": [
    "##### Assertions\n",
    "\n",
    "JUnit Jupiter viene con muchos de los métodos de aserción (**assertions**) que se prestan bien para usarse con Java 8 lambdas. Todas las afirmaciones de **JUnit Jupiter** son métodos estáticos en la clase `org.junit.jupiter.api.Assertions`."
   ]
  },
  {
   "cell_type": "code",
   "execution_count": null,
   "metadata": {
    "vscode": {
     "languageId": "java"
    }
   },
   "outputs": [],
   "source": [
    "@Test\n",
    "void testConExpresionLambda() {\n",
    "    assertTrue(5 > 4, () -> \"5 es más grande que 4\");\n",
    "}"
   ]
  },
  {
   "cell_type": "markdown",
   "metadata": {},
   "source": [
    "Aunque el ejemplo anterior es trivial, una ventaja de usar la expresión lambda para el mensaje de aserción es que se evalúa de _forma perezosa_ (_lazy_), lo que puede ahorrar tiempo y recursos si la construcción del mensaje es costosa.\n",
    "\n",
    "Ahora también es posible agrupar aserciones con `assertAll()`, que informará cualquier aserción fallida dentro del grupo con un `MultipleFailuresError`:"
   ]
  },
  {
   "cell_type": "code",
   "execution_count": null,
   "metadata": {
    "vscode": {
     "languageId": "java"
    }
   },
   "outputs": [],
   "source": [
    "@Test\n",
    "void grupoDeAssertions() {\n",
    "    int[] nums = {0, 1, 2, 3, 4};\n",
    "    assertAll(\"números\",\n",
    "        () -> assertEquals(nums[0], 1),\n",
    "        () -> assertEquals(nums[3], 3),\n",
    "        () -> assertEquals(nums[4], 1)\n",
    "    );\n",
    "}"
   ]
  },
  {
   "cell_type": "markdown",
   "metadata": {},
   "source": [
    "##### Assumptions\n",
    "\n",
    "Las suposiciones (**Assumptions**) se utilizan para ejecutar pruebas solo si se cumplen ciertas condiciones. Esto generalmente se usa para condiciones externas que se requieren para que la prueba se ejecute correctamente, pero que no están directamente relacionadas con lo que se está probando.\n",
    "\n",
    "Podemos declarar una suposición con `assumeTrue()`, `assumeFalse()` y `assumingThat()`:"
   ]
  },
  {
   "cell_type": "code",
   "execution_count": null,
   "metadata": {
    "vscode": {
     "languageId": "java"
    }
   },
   "outputs": [],
   "source": [
    "@Test\n",
    "void trueAssumption() {\n",
    "    assumeTrue(5 > 1);\n",
    "    assertEquals(5 + 2, 7);\n",
    "}\n",
    " \n",
    "@Test\n",
    "void falseAssumption() {\n",
    "    assumeFalse(5 < 1);\n",
    "    assertEquals(5 + 2, 7);\n",
    "}\n",
    " \n",
    "@Test\n",
    "void assumptionThat() {\n",
    "    String cadena = \"Un string\";\n",
    "    assumingThat(\n",
    "        cadena.equals(\"Un string\"),\n",
    "        () -> assertEquals(2 + 2, 4)\n",
    "    );\n",
    "}"
   ]
  },
  {
   "cell_type": "markdown",
   "metadata": {},
   "source": [
    "Si una suposición falla, se lanza una excepción `TestAbortedException` y la prueba simplemente se omite.\n",
    "\n",
    "##### Testeando Excepciones\n",
    "\n",
    "Hay dos formas de probar excepciones en JUnit 5, las cuales podemos implementar usando el método `assertThrows()`:"
   ]
  },
  {
   "cell_type": "code",
   "execution_count": null,
   "metadata": {
    "vscode": {
     "languageId": "java"
    }
   },
   "outputs": [],
   "source": [
    "@Test\n",
    "void tirarExcepcionTest() {\n",
    "    Throwable exception = assertThrows(UnsupportedOperationException.class, () -> {\n",
    "      throw new UnsupportedOperationException(\"No soportada\");\n",
    "    });\n",
    "    assertEquals(\"No soportada\", exception.getMessage());\n",
    "}\n",
    " \n",
    "@Test\n",
    "void controlarExcepcionTest() {\n",
    "    String str = null;\n",
    "    assertThrows(IllegalArgumentException.class, () -> {\n",
    "      Integer.valueOf(str);\n",
    "    });\n",
    "}"
   ]
  },
  {
   "cell_type": "markdown",
   "metadata": {},
   "source": [
    "##### JUnit Vintage\n",
    "**JUnit Vintage** proporciona un TestEngine para ejecutar pruebas basadas en JUnit 3 y JUnit 4 en la plataforma. Requiere que JUnit 4.12 o posterior este añadido en el classpath o en la ruta del módulo (module path).\n",
    "\n",
    "##### Configuración en un proyecto"
   ]
  },
  {
   "cell_type": "markdown",
   "metadata": {},
   "source": [
    "**Maven (`pom.xml`)**"
   ]
  },
  {
   "cell_type": "code",
   "execution_count": null,
   "metadata": {
    "vscode": {
     "languageId": "xml"
    }
   },
   "outputs": [],
   "source": [
    "<dependencies>\n",
    "    <dependency>\n",
    "        <groupId>org.junit.jupiter</groupId>\n",
    "        <artifactId>junit-jupiter-engine</artifactId>\n",
    "        <version>5.11.4</version>\n",
    "        <scope>test</scope>\n",
    "    </dependency>\n",
    "</dependencies>"
   ]
  },
  {
   "cell_type": "markdown",
   "metadata": {},
   "source": [
    "**Gradle (`build.gradle`)**"
   ]
  },
  {
   "cell_type": "code",
   "execution_count": null,
   "metadata": {
    "vscode": {
     "languageId": "groovy"
    }
   },
   "outputs": [],
   "source": [
    "dependencies {\n",
    "    testImplementation 'org.junit.jupiter:junit-jupiter-engine:5.7.0'\n",
    "    testRuntimeOnly 'org.junit.platform:junit-platform-launcher:5.7.0'\n",
    "}"
   ]
  },
  {
   "cell_type": "markdown",
   "metadata": {},
   "source": [
    "##### Ejecución de las pruebas\n",
    "\n",
    "**Maven**"
   ]
  },
  {
   "cell_type": "code",
   "execution_count": null,
   "metadata": {
    "vscode": {
     "languageId": "shellscript"
    }
   },
   "outputs": [],
   "source": [
    "mvn test"
   ]
  },
  {
   "cell_type": "markdown",
   "metadata": {},
   "source": [
    "**Gradle**"
   ]
  },
  {
   "cell_type": "code",
   "execution_count": null,
   "metadata": {
    "vscode": {
     "languageId": "shellscript"
    }
   },
   "outputs": [],
   "source": [
    "gradle test"
   ]
  },
  {
   "cell_type": "markdown",
   "metadata": {},
   "source": [
    "#### Mockito [_(web)_](https://site.mockito.org/)"
   ]
  },
  {
   "cell_type": "markdown",
   "metadata": {},
   "source": [
    "Mockito es un framework de código abierto para Java que facilita la creación de objetos simulados (mocks).  \n",
    "Estos objetos simulados son versiones simplificadas de los objetos reales que permiten aislar la unidad de código que se está probando.  \n",
    "Esto es especialmente útil cuando se quiere probar una clase que depende de otras clases o servicios externos, como bases de datos, APIs externas, etc.\n",
    "\n",
    "##### Ventajas de usar Mockito\n",
    "- **Aislamiento**: Permite probar una unidad de código sin depender de sus dependencias externas.\n",
    "- **Control**: Puedes especificar el comportamiento de los mocks para probar diferentes escenarios.\n",
    "- **Simplicidad**: Hace que las pruebas sean más simples y rápidas de escribir.\n",
    "\n",
    "##### Configuración en un proyecto"
   ]
  },
  {
   "cell_type": "markdown",
   "metadata": {},
   "source": [
    "**Maven (`pom.xml`)**"
   ]
  },
  {
   "cell_type": "code",
   "execution_count": null,
   "metadata": {
    "vscode": {
     "languageId": "xml"
    }
   },
   "outputs": [],
   "source": [
    "<dependencies>\n",
    "    <dependency>\n",
    "        <groupId>org.mockito</groupId>\n",
    "        <artifactId>mockito-core</artifactId>\n",
    "        <version>5.15.2</version>\n",
    "        <scope>test</scope>\n",
    "    </dependency>\n",
    "</dependencies>"
   ]
  },
  {
   "cell_type": "markdown",
   "metadata": {},
   "source": [
    "**Gradle (`build.gradle`)**"
   ]
  },
  {
   "cell_type": "code",
   "execution_count": null,
   "metadata": {
    "vscode": {
     "languageId": "groovy"
    }
   },
   "outputs": [],
   "source": [
    "dependencies {\n",
    "    testImplementation 'org.mockito:mockito-core:5.15.2'\n",
    "}"
   ]
  },
  {
   "cell_type": "markdown",
   "metadata": {},
   "source": [
    "##### Activar Mockito\n",
    "\n",
    "La primera opción que tenemos es anotar la prueba JUnit con un `MockitoJUnitRunner`:"
   ]
  },
  {
   "cell_type": "code",
   "execution_count": null,
   "metadata": {
    "vscode": {
     "languageId": "java"
    }
   },
   "outputs": [],
   "source": [
    "@RunWith(MockitoJUnitRunner.class)\n",
    "public class MockitoTest {\n",
    "    ...\n",
    "}"
   ]
  },
  {
   "cell_type": "markdown",
   "metadata": {},
   "source": [
    "Alternativamente, podemos habilitar las anotaciones de Mockito mediante programación invocando `MockitoAnnotations.openMocks()`:"
   ]
  },
  {
   "cell_type": "code",
   "execution_count": null,
   "metadata": {
    "vscode": {
     "languageId": "java"
    }
   },
   "outputs": [],
   "source": [
    "@Before\n",
    "public void init() {\n",
    "    MockitoAnnotations.openMocks(this);\n",
    "}"
   ]
  },
  {
   "cell_type": "markdown",
   "metadata": {},
   "source": [
    "##### Objectos Simulados (Mocks)\n",
    "\n",
    "Los objetos simulados son objetos que imitan el comportamiento de los objetos reales de forma controlada.\n",
    "\n",
    "Podemos usar el método `mock()` de la clase `Mockito` para crear un objeto simulado de una clase o interfaz determinada. Esta es la forma más sencilla de simular un objeto."
   ]
  },
  {
   "cell_type": "code",
   "execution_count": null,
   "metadata": {
    "vscode": {
     "languageId": "java"
    }
   },
   "outputs": [],
   "source": [
    "@Test\n",
    "public void test() {\n",
    "    List<String> mockList = Mockito.mock(List.class);\n",
    "    Mockito.when(mockList.size()).thenReturn(5);\n",
    "    assertTrue(mockList.size() == 5);\n",
    "}"
   ]
  },
  {
   "cell_type": "markdown",
   "metadata": {},
   "source": [
    "También podemos simular un objeto usando la anotación `@Mock`. Es útil cuando queremos usar el objeto simulado en varios lugares porque evitamos llamar al método `mock()` varias veces. El código se vuelve más legible y podemos especificar un nombre de objeto simulado que será útil en caso de errores."
   ]
  },
  {
   "cell_type": "code",
   "execution_count": null,
   "metadata": {
    "vscode": {
     "languageId": "java"
    }
   },
   "outputs": [],
   "source": [
    "@Mock\n",
    "List<String> mockList;\n",
    " \n",
    "@Test\n",
    "public void test() {\n",
    "    when(mockList.get(0)).thenReturn(\"Hola Mundo\");\n",
    "    assertEquals(\"Hola Mundo\", mockList.get(0));\n",
    "}"
   ]
  },
  {
   "cell_type": "markdown",
   "metadata": {},
   "source": [
    "Cuando queremos inyectar un objeto simulado (mock) en otro objeto simulado, podemos usar la anotación `@InjectMocks`.  \n",
    "`@InjectMock` crea el objeto simulado de la clase e inyecta los objectos simulados que están marcados con la anotación `@Mock` en él."
   ]
  },
  {
   "cell_type": "code",
   "execution_count": null,
   "metadata": {
    "vscode": {
     "languageId": "java"
    }
   },
   "outputs": [],
   "source": [
    "class UsuarioServicioTest {\n",
    " \n",
    "    @Mock\n",
    "    UsuarioRepositorio usuarioRepositorio;\n",
    "    @InjectMocks\n",
    "    UsuarioServicio servicio;\n",
    " \n",
    "    @BeforeEach\n",
    "    public void setup() {\n",
    "        MockitoAnnotations.openMocks(this);\n",
    "    }\n",
    " \n",
    "    @Test\n",
    "    public void test() {\n",
    "        UsuarioDto esperado = UsuarioDto(0, \"Juan\");\n",
    "        Mockito.when(usuarioRepositorio.obtenerUsuario(0)).thenReturn(UsuarioDto(0, \"Juan\"));\n",
    "        UsuarioDto resultado = servicio.obtenerUsuario(0);\n",
    "        Assertions.assertEquals(esperado, resultado);\n",
    "    }\n",
    " \n",
    "}"
   ]
  },
  {
   "cell_type": "markdown",
   "metadata": {},
   "source": [
    "**`when().thenReturn()`**\n",
    "\n",
    "Los objectos simulados (**mocks**) pueden devolver diferentes valores según los argumentos pasados a un método. La cadena de métodos **`when(…​.).thenReturn(…​.)`** se utiliza para especificar un valor de retorno para una llamada de método con parámetros predefinidos.\n",
    "\n",
    "También puedes usar métodos como `anyString()` o `anyInt()` que se encuentran dentro de la clase `ArgumentMatchers` para definir que, según el tipo de entrada, se debe devolver un determinado valor.\n",
    "\n",
    "Si especifica más de un valor, se devuelven en el orden de especificación, hasta que se utiliza el último. Posteriormente se devuelve el último valor especificado."
   ]
  },
  {
   "cell_type": "code",
   "execution_count": null,
   "metadata": {
    "vscode": {
     "languageId": "java"
    }
   },
   "outputs": [],
   "source": [
    "@Test\n",
    "void testeandoConWhenThenReturn() {\n",
    " \n",
    "    UsuarioDto esperado = UsuarioDto(0, \"Juan\");\n",
    " \n",
    "    // aqui simularemos que queremos que el método devuelva\n",
    "    Mockito.when(usuarioRepositorio.obtenerUsuario()).thenReturn(UsuarioDto(0, \"Juan\"));\n",
    " \n",
    "    UsuarioDto resultado = servicio.obtenerUsuario(0);\n",
    "    Assertions.assertEquals(esperado, resultado);\n",
    "}"
   ]
  },
  {
   "cell_type": "markdown",
   "metadata": {},
   "source": [
    "**`when().thenThrow()`**\n",
    "\n",
    "Si por el contrario, nosotros quisieramos simular que al llamar al método, este nos devuelva una excepción en vez de un valor en concreto entonces deberemos de usar **`when(…​.).thenThrow(…​.)`**."
   ]
  },
  {
   "cell_type": "code",
   "execution_count": null,
   "metadata": {
    "vscode": {
     "languageId": "java"
    }
   },
   "outputs": [],
   "source": [
    "@Test\n",
    "void testandoConWhenThenThrow() {\n",
    " \n",
    "    // aquí simularemos que queremos que el método devuelva una excepción\n",
    "    Mockito.when(usuarioRepositorio.obtenerUsuario(0)).thenThrow(new NoEncontradoException(\"Usuario no encontrado\"));\n",
    " \n",
    "    Throwable exception = assertThrows(NoEncontradoException.class, () -> \n",
    "       servicio.obtenerUsuario(0));\n",
    " \n",
    "    assertEquals(\"Usuario no encontrado\", exception.getMessage());\n",
    "}"
   ]
  },
  {
   "cell_type": "markdown",
   "metadata": {},
   "source": [
    "### Técnicas para escribir pruebas unitarias"
   ]
  },
  {
   "cell_type": "markdown",
   "metadata": {},
   "source": [
    "#### GIVEN-WHEN-THEN"
   ]
  },
  {
   "cell_type": "markdown",
   "metadata": {},
   "source": [
    "Una forma efectiva de escribir pruebas unitarias es utilizando la técnica **GIVEN-WHEN-THEN**, que nos permite especificar el comportamiento esperado de una función o método en diferentes situaciones.\n",
    "- **GIVEN**: Esta sección establece el estado inicial de la prueba. Es decir, se define el conjunto de datos de entrada y cualquier otra condición necesaria para que la prueba se ejecute correctamente.\n",
    "- **WHEN**: Aquí se llama al método o función que se va a probar. Esta es la acción que se está evaluando y que puede producir un resultado.\n",
    "- **THEN**: En esta parte se comprueba que el resultado producido es el esperado. Se establecen las expectativas de lo que debe suceder después de ejecutar la acción."
   ]
  },
  {
   "cell_type": "code",
   "execution_count": null,
   "metadata": {
    "vscode": {
     "languageId": "java"
    }
   },
   "outputs": [],
   "source": [
    "import org.junit.jupiter.api.Test;\n",
    "import static org.junit.jupiter.api.Assertions.assertEquals;\n",
    " \n",
    "public class CalculadoraTest {\n",
    " \n",
    "   @Test\n",
    "   public void sumarTest() {\n",
    "       // GIVEN\n",
    "       int a = 5;\n",
    "       int b = 10;\n",
    " \n",
    "       // WHEN\n",
    "       int resultado = sumar(a, b);\n",
    " \n",
    "       // THEN\n",
    "       assertEquals(15, resultado);\n",
    "   }\n",
    " \n",
    "   private int sumar(int a, int b) {\n",
    "       return a + b;\n",
    "   }\n",
    "}"
   ]
  },
  {
   "cell_type": "markdown",
   "metadata": {},
   "source": [
    "#### AAA (Arrange, Act, Assert)"
   ]
  },
  {
   "cell_type": "markdown",
   "metadata": {},
   "source": [
    "El patrón AAA (**Arrange, Act, Assert**) es otra forma habitual de escribir pruebas unitarias para un método en pruebas.\n",
    "- **Arrange** de un método de prueba unitaria inicializa objetos y establece el valor de los datos que se pasa al método en pruebas.\n",
    "- **Act** invoca al método en pruebas con los parámetros organizados.\n",
    "- **Assert** comprueba si la acción del método en pruebas se comporta de la forma prevista.\n",
    "\n",
    "Como se puede observar, cambian las palabras, pero tiene una semántica parecida a **GIVEN-WHEN-THEN**"
   ]
  },
  {
   "cell_type": "code",
   "execution_count": null,
   "metadata": {
    "vscode": {
     "languageId": "java"
    }
   },
   "outputs": [],
   "source": [
    "import org.junit.jupiter.api.Test;\n",
    "import static org.junit.jupiter.api.Assertions.assertEquals;\n",
    " \n",
    "public class CalculadoraTest {\n",
    " \n",
    "   @Test\n",
    "   public void sumarTest() {\n",
    "       // Arrange\n",
    "       int a = 5;\n",
    "       int b = 10;\n",
    " \n",
    "       // Act\n",
    "       int resultado = sumar(a, b);\n",
    " \n",
    "       // Assert\n",
    "       assertEquals(15, resultado);\n",
    "   }\n",
    " \n",
    "   private int sumar(int a, int b) {\n",
    "       return a + b;\n",
    "   }\n",
    "}"
   ]
  },
  {
   "cell_type": "markdown",
   "metadata": {},
   "source": [
    "## Ejercicio: Sistema de Gestión de Biblioteca"
   ]
  },
  {
   "cell_type": "markdown",
   "metadata": {},
   "source": [
    "Implementar clases para gestionar una biblioteca y escribir pruebas unitarias utilizando JUnit 5 y Mockito para asegurarnos de que funcionan correctamente.\n",
    "\n",
    "#### Funcionalidades Principales\n",
    "1. **Gestión de Libros**:\n",
    "    - **Agregar Libro**: Permitir la adición de nuevos libros a la biblioteca con información como ID, título y autor.\n",
    "    - **Obtener Libro**: Permitir la consulta de información detallada de un libro mediante su ID.\n",
    "1. **Gestión de Usuarios**:\n",
    "    - **Crear Usuario**: Permitir la creación de usuarios con información como ID y nombre.\n",
    "1. **Gestión de Préstamos**:\n",
    "    - **Prestar Libro**: Permitir el préstamo de un libro a un usuario, registrando la fecha del préstamo.\n",
    "    - **Obtener Préstamos por Usuario**: Permitir la consulta de todos los préstamos realizados por un usuario específico.\n",
    "\n",
    "#### Detalles Técnicos\n",
    "1. **Clases y Estructuras**:\n",
    "    - **Book**: Clase para representar un libro con atributos `id`, `title` y `author`.\n",
    "    - **User**: Clase para representar un usuario con atributos `id` y `name`.\n",
    "    - **Loan**: Clase para representar un préstamo con atributos `id`, `user`, `book` y `loanDate`.\n",
    "    - **BookRepository**: Interfaz para gestionar la persistencia de libros con métodos `findById` y `save`.\n",
    "    - **LoanRepository**: Interfaz para gestionar la persistencia de préstamos con métodos `save`, `findById` y `findByUser`.\n",
    "    - **LibraryService**: Clase de servicio que contiene la lógica de negocio para gestionar libros y préstamos.\n",
    "1. **Pruebas Unitarias**:\n",
    "    - Escribir pruebas unitarias para los métodos de `LibraryService` utilizando JUnit 5 para validar el correcto funcionamiento del servicio.\n",
    "    - Utilizar Mockito para crear mocks de `BookRepository` y `LoanRepository` para probar la lógica de negocio de `LibraryService` de forma aislada."
   ]
  },
  {
   "cell_type": "markdown",
   "metadata": {},
   "source": [
    "#### Solución [(Repositorio en Github)](https://github.com/cesardiaz-utp/library-management.git)"
   ]
  },
  {
   "cell_type": "code",
   "execution_count": null,
   "metadata": {
    "vscode": {
     "languageId": "java"
    }
   },
   "outputs": [],
   "source": [
    "public class Book {\n",
    "    private Integer id;\n",
    "    private String title;\n",
    "    private String author;\n",
    "    \n",
    "    public Book(Integer id, String title, String author) {\n",
    "        this.id = id;\n",
    "        this.title = title;\n",
    "        this.author = author;\n",
    "    }\n",
    "\n",
    "    public Integer getId() {\n",
    "        return id;\n",
    "    }\n",
    "\n",
    "    public String getTitle() {\n",
    "        return title;\n",
    "    }\n",
    "\n",
    "    public String getAuthor() {\n",
    "        return author;\n",
    "    }   \n",
    "}"
   ]
  },
  {
   "cell_type": "code",
   "execution_count": null,
   "metadata": {
    "vscode": {
     "languageId": "java"
    }
   },
   "outputs": [],
   "source": [
    "public class User {\n",
    "    private Integer  id;\n",
    "    private String name;\n",
    "\n",
    "    public User(Integer id, String name) {\n",
    "        this.id = id;\n",
    "        this.name = name;\n",
    "    }\n",
    "\n",
    "    public Integer getId() {\n",
    "        return id;\n",
    "    }\n",
    "\n",
    "    public String getName() {\n",
    "        return name;\n",
    "    }\n",
    "}"
   ]
  },
  {
   "cell_type": "code",
   "execution_count": null,
   "metadata": {
    "vscode": {
     "languageId": "java"
    }
   },
   "outputs": [],
   "source": [
    "import java.time.LocalDate;\n",
    "\n",
    "public class Loan {\n",
    "    private Integer id;\n",
    "    private User user;\n",
    "    private Book book;\n",
    "    private LocalDate loanDate;\n",
    "\n",
    "    public Loan(User user, Book book, LocalDate loanDate) {\n",
    "        this(1, user, book, loanDate);\n",
    "    }\n",
    "\n",
    "    public Loan(Integer id, User user, Book book, LocalDate loanDate) {\n",
    "        this.id = id;\n",
    "        this.user = user;\n",
    "        this.book = book;\n",
    "        this.loanDate = loanDate;\n",
    "    }\n",
    "\n",
    "    public void setId(Integer id) {\n",
    "        this.id = id;\n",
    "    }\n",
    "\n",
    "    public Integer getId() {\n",
    "        return id;\n",
    "    }\n",
    "\n",
    "    public User getUser() {\n",
    "        return user;\n",
    "    }\n",
    "\n",
    "    public Book getBook() {\n",
    "        return book;\n",
    "    }\n",
    "\n",
    "    public LocalDate getLoanDate() {\n",
    "        return loanDate;\n",
    "    }\n",
    "\n",
    "}"
   ]
  },
  {
   "cell_type": "code",
   "execution_count": null,
   "metadata": {
    "vscode": {
     "languageId": "java"
    }
   },
   "outputs": [],
   "source": [
    "public interface BookRepository {\n",
    "    Book findById(Integer id);\n",
    "\n",
    "    void save(Book book);\n",
    "}\n"
   ]
  },
  {
   "cell_type": "code",
   "execution_count": null,
   "metadata": {
    "vscode": {
     "languageId": "java"
    }
   },
   "outputs": [],
   "source": [
    "public interface LoanRepository {\n",
    "    void save(Loan loan);\n",
    "\n",
    "    Loan findById(int id);\n",
    "\n",
    "    List<Loan> findByUser(User user);\n",
    "}"
   ]
  },
  {
   "cell_type": "code",
   "execution_count": null,
   "metadata": {
    "vscode": {
     "languageId": "java"
    }
   },
   "outputs": [],
   "source": [
    "import java.util.List;\n",
    "\n",
    "public class LibraryService {\n",
    "    private BookRepository bookRepository;\n",
    "    private LoanRepository loanRepository;\n",
    "\n",
    "    public LibraryService(BookRepository bookRepository, LoanRepository loanRepository) {\n",
    "        this.bookRepository = bookRepository;\n",
    "        this.loanRepository = loanRepository;\n",
    "    }\n",
    "\n",
    "    public Book getBook(int id) {\n",
    "        return bookRepository.findById(id);\n",
    "    }\n",
    "\n",
    "    public void addBook(Book book) {\n",
    "        bookRepository.save(book);\n",
    "    }\n",
    "\n",
    "    public void loanBook(User user, Book book) {\n",
    "        Loan loan = new Loan(user, book);\n",
    "        loanRepository.save(loan);\n",
    "    }\n",
    "\n",
    "    public List<Loan> getLoansByUser(User user) {\n",
    "        return loanRepository.findByUser(user);\n",
    "    }\n",
    "}\n"
   ]
  },
  {
   "cell_type": "markdown",
   "metadata": {},
   "source": [
    "#### Clases con las pruebas"
   ]
  },
  {
   "cell_type": "code",
   "execution_count": null,
   "metadata": {
    "vscode": {
     "languageId": "java"
    }
   },
   "outputs": [],
   "source": [
    "\n",
    "import static org.junit.jupiter.api.Assertions.assertEquals;\n",
    "\n",
    "import java.time.LocalDate;\n",
    "import java.util.Arrays;\n",
    "import java.util.List;\n",
    "\n",
    "import org.junit.jupiter.api.BeforeEach;\n",
    "import org.junit.jupiter.api.Test;\n",
    "import org.mockito.Mockito;\n",
    "\n",
    "public class LibraryServiceMethodsTest {\n",
    "\n",
    "    private BookRepository bookRepository;\n",
    "    private LoanRepository loanRepository;\n",
    "    private LibraryService libraryService;\n",
    "\n",
    "    @BeforeEach\n",
    "    void setUp() {\n",
    "        bookRepository = Mockito.mock(BookRepository.class);\n",
    "        loanRepository = Mockito.mock(LoanRepository.class);\n",
    "        libraryService = new LibraryService(bookRepository, loanRepository);        \n",
    "    }\n",
    "\n",
    "    @Test\n",
    "    void testAddBook() {\n",
    "        var book = new Book(2, \"Cien Años de Soledad\", \"Gabriel García Márquez\");\n",
    "\n",
    "        libraryService.addBook(book);\n",
    "\n",
    "        Mockito.verify(bookRepository).save(book);\n",
    "    }\n",
    "\n",
    "    @Test\n",
    "    void testGetBook() {\n",
    "        var bookMock = new Book(1, \"El Quijote\", \"Miguel de Cervantes\");\n",
    "        Mockito.when(bookRepository.findById(1)).thenReturn(bookMock);\n",
    "\n",
    "        var book = libraryService.getBook(1);\n",
    "\n",
    "        assertEquals(\"El Quijote\", book.getTitle());\n",
    "        assertEquals(\"Miguel de Cervantes\", book.getAuthor());\n",
    "    }\n",
    "\n",
    "    @Test\n",
    "    void testGetLoansByUser() {\n",
    "        User user = new User(1, \"Bob\");\n",
    "        Book book1 = new Book(1, \"1984\", \"George Orwell\");\n",
    "        Book book2 = new Book(2, \"Brave New World\", \"Aldous Huxley\");\n",
    "        Loan loan1 = new Loan(1, user, book1, LocalDate.of(2023, 1, 1));\n",
    "        Loan loan2 = new Loan(2, user, book2, LocalDate.of(2023, 2, 1));\n",
    "\n",
    "        List<Loan> loans = Arrays.asList(loan1, loan2);\n",
    "        Mockito.when(loanRepository.findByUser(user)).thenReturn(loans);\n",
    "\n",
    "        List<Loan> result = libraryService.getLoansByUser(user);\n",
    "\n",
    "        assertEquals(2, result.size());\n",
    "        assertEquals(loan1, result.get(0));\n",
    "        assertEquals(loan2, result.get(1));\n",
    "    }\n",
    "\n",
    "    @Test\n",
    "    void testLoanBook() {\n",
    "        // Create a user and a book\n",
    "        User user = new User(1, \"Alice\");\n",
    "        Book book = new Book(1, \"1984\", \"George Orwell\");\n",
    "\n",
    "        // Call the method to be tested\n",
    "        libraryService.loanBook(user, book);\n",
    "\n",
    "        // Verify that the save method of the loanRepository was called with the correct\n",
    "        // loan\n",
    "        Mockito.verify(loanRepository).save(Mockito.argThat(loan -> loan.getUser().equals(user) &&\n",
    "                loan.getBook().equals(book) &&\n",
    "                loan.getLoanDate().equals(LocalDate.now())));\n",
    "    }\n",
    "}"
   ]
  },
  {
   "cell_type": "markdown",
   "metadata": {},
   "source": [
    "## Recursos adicionales\n",
    "### Video-tutoriales\n",
    "- [Curso básico de JUnit 5](https://www.youtube.com/playlist?list=PLsRPgBUE5BI68-h4MF0Y5FLSNwGdlIBK0)\n",
    "- [Dominando los Test Unitarios en JAVA | JUnit](https://www.youtube.com/watch?v=mEzoe6KSUu8)\n",
    "- [Dominando las Pruebas Unitarias en JAVA | Mockito](https://www.youtube.com/watch?v=0VivFIbTZ3c)\n",
    "\n",
    "### Artículos\n",
    "- [PRUEBAS UNITARIAS en JAVA](https://programandoenjava.com/junit-5-pruebas-unitarias/)\n",
    "- [PRUEBAS UNITARIAS con MOCKITO en JAVA](https://programandoenjava.com/mockito-pruebas-unitarias/)\n",
    "\n",
    "### Documentación oficial\n",
    "- [JUnit 5 User Guide](https://www.youtube.com/playlist?list=PLsRPgBUE5BI68-h4MF0Y5FLSNwGdlIBK0)\n",
    "- [Mockito referencie documentation](https://javadoc.io/doc/org.mockito/mockito-core/latest/org/mockito/Mockito.html)"
   ]
  }
 ],
 "metadata": {
  "language_info": {
   "name": "python"
  }
 },
 "nbformat": 4,
 "nbformat_minor": 2
}
